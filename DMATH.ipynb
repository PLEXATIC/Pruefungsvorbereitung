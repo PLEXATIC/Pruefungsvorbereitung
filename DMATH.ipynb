{
 "metadata": {
  "language_info": {
   "codemirror_mode": {
    "name": "ipython",
    "version": 3
   },
   "file_extension": ".py",
   "mimetype": "text/x-python",
   "name": "python",
   "nbconvert_exporter": "python",
   "pygments_lexer": "ipython3",
   "version": "3.8.6-final"
  },
  "orig_nbformat": 2,
  "kernelspec": {
   "name": "python3",
   "display_name": "Python 3",
   "language": "python"
  }
 },
 "nbformat": 4,
 "nbformat_minor": 2,
 "cells": [
  {
   "source": [
    "## Big-O-Notation\n",
    "\n",
    "Man vergleiche die Funktionen $f(x) = 3x + 7$ und $f(x) = x^2 + x + 1$"
   ],
   "cell_type": "markdown",
   "metadata": {}
  },
  {
   "source": [
    "import pygame as pg\n",
    "\n",
    "def f(x):\n",
    "    return x**2 + 2*x + 1\n",
    "\n",
    "def g(x):\n",
    "    return x**4\n",
    "\n",
    "def isValidComplexity(f, g, c, k):\n",
    "    i = k\n",
    "    steps = 1000\n",
    "    last_dif = 0\n",
    "    for i in range(k, k+steps):\n",
    "        dif = c*abs(g(i))-abs(f(i))\n",
    "        if dif < 0:\n",
    "            return False\n",
    "        if dif != 0:\n",
    "            stigig = last_dif/dif\n",
    "            if stigig < 0:\n",
    "                return False\n",
    "        last_dif = dif\n",
    "    return True\n",
    "\n",
    "cs = range(0, 15, 1)\n",
    "ks = range(0, 15, 1)\n",
    "\n",
    "pg.init()\n",
    "width, height = 800, 800\n",
    "screen = pg.display.set_mode((width, height))\n",
    "\n",
    "running = True\n",
    "while running:\n",
    "    for event in pg.event.get():\n",
    "        if event.type == pg.QUIT:\n",
    "            running = False\n",
    "    screen.fill((0, 0, 0))\n",
    "\n",
    "    for c in cs:\n",
    "        for k in ks:\n",
    "            if isValidComplexity(f, g, c, k):\n",
    "                x = c*width/len(cs)\n",
    "                y = k*height/len(ks)\n",
    "                #pg.draw.circle(screen, (255, 255, 255), (x, y), 30, 0)\n",
    "                pg.gfxdraw.filled_circle(screen, int(x), int(y), 5, (255, 255, 255))\n",
    "                pg.gfxdraw.aacircle(screen, int(x), int(y), 5, (255, 255, 255))\n",
    "    pg.display.update()\n",
    "pg.quit()\n",
    "\n",
    "\n"
   ],
   "cell_type": "code",
   "metadata": {
    "tags": []
   },
   "execution_count": 35,
   "outputs": []
  },
  {
   "cell_type": "code",
   "execution_count": null,
   "metadata": {},
   "outputs": [],
   "source": []
  }
 ]
}