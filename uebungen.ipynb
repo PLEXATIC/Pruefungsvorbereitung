{
 "metadata": {
  "language_info": {
   "codemirror_mode": {
    "name": "ipython",
    "version": 3
   },
   "file_extension": ".py",
   "mimetype": "text/x-python",
   "name": "python",
   "nbconvert_exporter": "python",
   "pygments_lexer": "ipython3",
   "version": "3.8.6-final"
  },
  "orig_nbformat": 2,
  "kernelspec": {
   "name": "python3",
   "display_name": "Python 3",
   "language": "python"
  }
 },
 "nbformat": 4,
 "nbformat_minor": 2,
 "cells": [
  {
   "cell_type": "code",
   "execution_count": 63,
   "metadata": {},
   "outputs": [
    {
     "output_type": "stream",
     "name": "stdout",
     "text": [
      "0.06520329594241048\n"
     ]
    }
   ],
   "source": [
    "import math\n",
    "import sympy as sp\n",
    "\n",
    "r = 6375\n",
    "volumen_eis = 33.3*(10**6)\n",
    "volumen_erde = (4/3)*math.pi*(r**3)\n",
    "volumen_total = sum([volumen_eis, volumen_erde])\n",
    "r_hoch_3 = volumen_total/(4/3)/math.pi\n",
    "r_hoch_1 = r_hoch_3**(1/3)\n",
    "print(r_hoch_1-r)\n",
    "\n"
   ]
  },
  {
   "cell_type": "code",
   "execution_count": 26,
   "metadata": {},
   "outputs": [],
   "source": []
  },
  {
   "cell_type": "code",
   "execution_count": 1,
   "metadata": {},
   "outputs": [
    {
     "output_type": "stream",
     "name": "stdout",
     "text": [
      "exp(sin(x))*cos(x)\n"
     ]
    }
   ],
   "source": [
    "import sympy as sp\n",
    "x = sp.Symbol(\"x\")\n",
    "f = sp.exp(1)**sp.sin(x)\n",
    "y = sp.diff(f)\n",
    "print(sp.simplify(y))\n",
    "\n"
   ]
  },
  {
   "cell_type": "code",
   "execution_count": 65,
   "metadata": {},
   "outputs": [
    {
     "output_type": "stream",
     "name": "stdout",
     "text": [
      "C + x**2*exp(x)\n"
     ]
    }
   ],
   "source": [
    "import sympy as sp\n",
    "\n",
    "x = sp.Symbol(\"x\")\n",
    "c = sp.Symbol(\"C\")\n",
    "f = (x**2 + 2*x)*sp.exp(x)\n",
    "F = sp.integrate(f)\n",
    "print(sp.simplify(F+c))"
   ]
  },
  {
   "cell_type": "code",
   "execution_count": 66,
   "metadata": {},
   "outputs": [
    {
     "output_type": "stream",
     "name": "stdout",
     "text": [
      "2\n"
     ]
    }
   ],
   "source": [
    "import sympy as sp\n",
    "\n",
    "x = sp.Symbol(\"x\")\n",
    "f = sp.cos(x)\n",
    "A = sp.integrate(f, (x, -sp.pi/2, sp.pi/2))\n",
    "print(A)"
   ]
  },
  {
   "cell_type": "code",
   "execution_count": 67,
   "metadata": {},
   "outputs": [
    {
     "output_type": "execute_result",
     "data": {
      "text/plain": [
       "5 - 3*(x - 2)**2"
      ],
      "text/latex": "$\\displaystyle 5 - 3 \\left(x - 2\\right)^{2}$"
     },
     "metadata": {},
     "execution_count": 67
    }
   ],
   "source": [
    "import sympy as sp\n",
    "x = sp.Symbol(\"x\")\n",
    "f = -3*(x-2)**2 + 5\n",
    "f = sp.simplify(f)\n",
    "nullstellen = list(sp.roots(f).keys())\n",
    "\n",
    "def bootify(func):\n",
    "    return sp.simplify(func)\n",
    "\n",
    "bootify(f)"
   ]
  },
  {
   "cell_type": "code",
   "execution_count": 68,
   "metadata": {},
   "outputs": [
    {
     "output_type": "stream",
     "name": "stdout",
     "text": [
      "2 - sqrt(15)/3\nsqrt(15)/3 + 2\n"
     ]
    }
   ],
   "source": [
    "for nullstelle in nullstellen:\n",
    "    print(nullstelle)\n",
    "    nullstelle.simplify()"
   ]
  },
  {
   "cell_type": "code",
   "execution_count": 6,
   "metadata": {},
   "outputs": [
    {
     "output_type": "stream",
     "name": "stdout",
     "text": [
      "<frame at 0x000001F30A685C10, file '<ipython-input-6-199a2492a7b2>', line 6, code <module>>\n"
     ]
    },
    {
     "output_type": "stream",
     "text": [
      "\u001b[1;31mType:\u001b[0m        module\n",
      "\u001b[1;31mString form:\u001b[0m <module 'inspect' from 'C:\\\\Users\\\\Kim\\\\AppData\\\\Local\\\\Programs\\\\Python\\\\Python38\\\\lib\\\\inspect.py'>\n",
      "\u001b[1;31mFile:\u001b[0m        c:\\users\\kim\\appdata\\local\\programs\\python\\python38\\lib\\inspect.py\n",
      "\u001b[1;31mDocstring:\u001b[0m  \n",
      "Get useful information from live Python objects.\n",
      "\n",
      "This module encapsulates the interface provided by the internal special\n",
      "attributes (co_*, im_*, tb_*, etc.) in a friendlier fashion.\n",
      "It also provides some help for examining source code and class layout.\n",
      "\n",
      "Here are some of the useful functions provided by this module:\n",
      "\n",
      "    ismodule(), isclass(), ismethod(), isfunction(), isgeneratorfunction(),\n",
      "        isgenerator(), istraceback(), isframe(), iscode(), isbuiltin(),\n",
      "        isroutine() - check object types\n",
      "    getmembers() - get members of an object that satisfy a given condition\n",
      "\n",
      "    getfile(), getsourcefile(), getsource() - find an object's source code\n",
      "    getdoc(), getcomments() - get documentation on an object\n",
      "    getmodule() - determine the module that an object came from\n",
      "    getclasstree() - arrange classes so as to represent their hierarchy\n",
      "\n",
      "    getargvalues(), getcallargs() - get info about function arguments\n",
      "    getfullargspec() - same, with support for Python 3 features\n",
      "    formatargvalues() - format an argument spec\n",
      "    getouterframes(), getinnerframes() - get info about frames\n",
      "    currentframe() - get the current stack frame\n",
      "    stack(), trace() - get info about frames on the stack or in a traceback\n",
      "\n",
      "    signature() - get a Signature object for the callable\n"
     ],
     "name": "stdout"
    }
   ],
   "source": [
    "import sympy as sp\n",
    "import matplotlib.pyplot as plt\n",
    "import numpy as np\n",
    "\n"
   ]
  },
  {
   "cell_type": "code",
   "execution_count": null,
   "metadata": {},
   "outputs": [],
   "source": []
  },
  {
   "cell_type": "code",
   "execution_count": null,
   "metadata": {},
   "outputs": [],
   "source": []
  },
  {
   "cell_type": "code",
   "execution_count": null,
   "metadata": {},
   "outputs": [],
   "source": []
  }
 ]
}