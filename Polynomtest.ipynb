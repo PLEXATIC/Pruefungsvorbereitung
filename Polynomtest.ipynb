{
 "metadata": {
  "language_info": {
   "codemirror_mode": {
    "name": "ipython",
    "version": 3
   },
   "file_extension": ".py",
   "mimetype": "text/x-python",
   "name": "python",
   "nbconvert_exporter": "python",
   "pygments_lexer": "ipython3",
   "version": "3.8.6-final"
  },
  "orig_nbformat": 2,
  "kernelspec": {
   "name": "python3",
   "display_name": "Python 3",
   "language": "python"
  }
 },
 "nbformat": 4,
 "nbformat_minor": 2,
 "cells": [
  {
   "source": [
    "## Hier einige Spielereien mit polynomen die so verändert werden, dass sie gewisse Bedingungen erfüllen.\n"
   ],
   "cell_type": "markdown",
   "metadata": {}
  },
  {
   "cell_type": "code",
   "execution_count": 1,
   "metadata": {
    "tags": []
   },
   "outputs": [
    {
     "output_type": "stream",
     "name": "stdout",
     "text": [
      "pygame 2.0.0 (SDL 2.0.12, python 3.8.5)\n",
      "Hello from the pygame community. https://www.pygame.org/contribute.html\n",
      "Software shutting down now lol\n"
     ]
    }
   ],
   "source": [
    "import numpy as np\n",
    "import pygame as pg\n",
    "import math\n",
    "import random\n",
    "\n",
    "\n",
    "training_list = []\n",
    "\n",
    "class Polynomial:\n",
    "    def __init__(self, *values):\n",
    "        self.values = list(values[0:-1])\n",
    "        self.scale = values[-1]\n",
    "\n",
    "    def eval(self,x):\n",
    "        result = self.scale\n",
    "        val_index = 1\n",
    "        for val in self.values:\n",
    "            result *= (x+val)\n",
    "            val_index += 1\n",
    "        return result\n",
    "\n",
    "    def get_error(self, x, y_target):\n",
    "        y_result = self.eval(x)\n",
    "        try:\n",
    "            error = 0.5*(y_target - y_result)**2\n",
    "            return error\n",
    "        except BaseException():\n",
    "            return 10000\n",
    "\n",
    "    def get_total_error(self):\n",
    "        total_error = 0\n",
    "        for x, y in training_list:\n",
    "            total_error += self.get_error(x, y)\n",
    "        return total_error\n",
    "\n",
    "    def train(self, lr=0.1):\n",
    "        derivatives = []\n",
    "        delta = 0.00000001\n",
    "        y0 = self.get_total_error()\n",
    "        self.scale += delta\n",
    "        y1_scale = self.get_total_error()\n",
    "        self.scale -= delta\n",
    "        dxdy_scale = (y1_scale-y0)/delta\n",
    "        for index, value in enumerate(self.values):\n",
    "            self.values[index] += delta\n",
    "            y1 = self.get_total_error()\n",
    "            self.values[index] = value\n",
    "            derivatives.append((y1-y0)/delta)\n",
    "        for index, value in enumerate(self.values):\n",
    "            self.values[index] -= lr*derivatives[index]\n",
    "        self.scale -= lr*dxdy_scale\n",
    "\n",
    "poly = Polynomial(1, -1, 1)\n",
    "pg.init()\n",
    "width, height = 500, 500\n",
    "screen = pg.display.set_mode((width, height))\n",
    "\n",
    "clock = pg.time.Clock()\n",
    "running = True\n",
    "\n",
    "while running:\n",
    "    mouse_x, mouse_y = pg.mouse.get_pos()\n",
    "    mouse_x /= width/2\n",
    "    mouse_x -= 1\n",
    "    mouse_y /= height/2\n",
    "    mouse_y -= 1\n",
    "    mouse_y *= -1\n",
    "    for event in pg.event.get():\n",
    "        if event.type == pg.QUIT:\n",
    "            running = False\n",
    "        if event.type == pg.KEYDOWN:\n",
    "            if event.key == pg.K_ESCAPE:\n",
    "                running = False\n",
    "        if event.type == pg.MOUSEBUTTONDOWN:\n",
    "            if event.button == 1:\n",
    "                poly.values.append(random.random()*2-1)\n",
    "            else:\n",
    "                training_list.append((mouse_x, mouse_y))\n",
    "    screen.fill((0, 0, 0))\n",
    "    poly.train()\n",
    "    for x in np.arange(-1, 1, 0.01):\n",
    "        y = poly.eval(x)\n",
    "        point = ((x+1)*width/2, (height/2)-0.5*height*y)\n",
    "        pg.draw.circle(screen, (255, 255, 255), point, 1, 0)\n",
    "\n",
    "    for x, y in training_list:\n",
    "        pg.draw.circle(screen, (125, 125, 255), ((x+1)*width/2, (height/2 - y*height/2)), 3, 0)\n",
    "\n",
    "    for nulstelle in poly.values:\n",
    "        x = nulstelle*-1\n",
    "        y = 0\n",
    "        pg.draw.circle(screen, (255, 125, 125), ((x+1)*width/2, (height/2)), 3, 0)\n",
    "\n",
    "    pg.display.flip()\n",
    "    clock.tick(30)\n",
    "pg.quit()\n",
    "print(\"Software shutting down now lol\")\n"
   ]
  },
  {
   "cell_type": "code",
   "execution_count": null,
   "metadata": {},
   "outputs": [],
   "source": []
  },
  {
   "cell_type": "code",
   "execution_count": null,
   "metadata": {},
   "outputs": [],
   "source": []
  },
  {
   "cell_type": "code",
   "execution_count": null,
   "metadata": {},
   "outputs": [],
   "source": []
  }
 ]
}