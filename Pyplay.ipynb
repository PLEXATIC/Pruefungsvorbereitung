{
 "metadata": {
  "language_info": {
   "codemirror_mode": {
    "name": "ipython",
    "version": 3
   },
   "file_extension": ".py",
   "mimetype": "text/x-python",
   "name": "python",
   "nbconvert_exporter": "python",
   "pygments_lexer": "ipython3",
   "version": "3.8.6-final"
  },
  "orig_nbformat": 2,
  "kernelspec": {
   "name": "python3",
   "display_name": "Python 3",
   "language": "python"
  }
 },
 "nbformat": 4,
 "nbformat_minor": 2,
 "cells": [
  {
   "cell_type": "code",
   "execution_count": 61,
   "metadata": {
    "tags": []
   },
   "outputs": [
    {
     "output_type": "error",
     "ename": "AttributeError",
     "evalue": "'list' object has no attribute 'values'",
     "traceback": [
      "\u001b[1;31m---------------------------------------------------------------------------\u001b[0m",
      "\u001b[1;31mAttributeError\u001b[0m                            Traceback (most recent call last)",
      "\u001b[1;32m<ipython-input-61-1b19e4e57c74>\u001b[0m in \u001b[0;36m<module>\u001b[1;34m\u001b[0m\n\u001b[0;32m    126\u001b[0m         \u001b[0mball\u001b[0m\u001b[1;33m.\u001b[0m\u001b[0mmove\u001b[0m\u001b[1;33m(\u001b[0m\u001b[1;33m)\u001b[0m\u001b[1;33m\u001b[0m\u001b[1;33m\u001b[0m\u001b[0m\n\u001b[0;32m    127\u001b[0m         \u001b[0mball\u001b[0m\u001b[1;33m.\u001b[0m\u001b[0mcollide_border\u001b[0m\u001b[1;33m(\u001b[0m\u001b[1;36m0\u001b[0m\u001b[1;33m,\u001b[0m \u001b[1;36m0\u001b[0m\u001b[1;33m,\u001b[0m \u001b[0mwidth\u001b[0m\u001b[1;33m,\u001b[0m \u001b[0mheight\u001b[0m\u001b[1;33m)\u001b[0m\u001b[1;33m\u001b[0m\u001b[1;33m\u001b[0m\u001b[0m\n\u001b[1;32m--> 128\u001b[1;33m         \u001b[0mball\u001b[0m\u001b[1;33m.\u001b[0m\u001b[0mcollide_balls\u001b[0m\u001b[1;33m(\u001b[0m\u001b[0mballz\u001b[0m\u001b[1;33m)\u001b[0m\u001b[1;33m\u001b[0m\u001b[1;33m\u001b[0m\u001b[0m\n\u001b[0m\u001b[0;32m    129\u001b[0m         \u001b[0mball\u001b[0m\u001b[1;33m.\u001b[0m\u001b[0mdraw_screen\u001b[0m\u001b[1;33m(\u001b[0m\u001b[0mscreen\u001b[0m\u001b[1;33m)\u001b[0m\u001b[1;33m\u001b[0m\u001b[1;33m\u001b[0m\u001b[0m\n\u001b[0;32m    130\u001b[0m \u001b[1;33m\u001b[0m\u001b[0m\n",
      "\u001b[1;32m<ipython-input-61-1b19e4e57c74>\u001b[0m in \u001b[0;36mcollide_balls\u001b[1;34m(self, balls)\u001b[0m\n\u001b[0;32m     81\u001b[0m                 \u001b[0mself\u001b[0m\u001b[1;33m.\u001b[0m\u001b[0mcolor\u001b[0m \u001b[1;33m=\u001b[0m \u001b[1;33m(\u001b[0m\u001b[1;36m255\u001b[0m\u001b[1;33m,\u001b[0m \u001b[1;36m0\u001b[0m\u001b[1;33m,\u001b[0m \u001b[1;36m0\u001b[0m\u001b[1;33m)\u001b[0m\u001b[1;33m\u001b[0m\u001b[1;33m\u001b[0m\u001b[0m\n\u001b[0;32m     82\u001b[0m                 \u001b[0mother_ball\u001b[0m\u001b[1;33m.\u001b[0m\u001b[0mcolor\u001b[0m \u001b[1;33m=\u001b[0m \u001b[1;33m(\u001b[0m\u001b[1;36m255\u001b[0m\u001b[1;33m,\u001b[0m \u001b[1;36m0\u001b[0m\u001b[1;33m,\u001b[0m \u001b[1;36m0\u001b[0m\u001b[1;33m)\u001b[0m\u001b[1;33m\u001b[0m\u001b[1;33m\u001b[0m\u001b[0m\n\u001b[1;32m---> 83\u001b[1;33m                 \u001b[0mdirection_vector\u001b[0m \u001b[1;33m=\u001b[0m \u001b[0mother_ball\u001b[0m\u001b[1;33m.\u001b[0m\u001b[0mposition\u001b[0m\u001b[1;33m-\u001b[0m\u001b[0mself\u001b[0m\u001b[1;33m.\u001b[0m\u001b[0mposition\u001b[0m\u001b[1;33m\u001b[0m\u001b[1;33m\u001b[0m\u001b[0m\n\u001b[0m\u001b[0;32m     84\u001b[0m                 \u001b[0mlength\u001b[0m \u001b[1;33m=\u001b[0m \u001b[0mdirection_vector\u001b[0m\u001b[1;33m.\u001b[0m\u001b[0mlength\u001b[0m\u001b[1;33m(\u001b[0m\u001b[1;33m)\u001b[0m\u001b[1;33m\u001b[0m\u001b[1;33m\u001b[0m\u001b[0m\n\u001b[0;32m     85\u001b[0m                 \u001b[0mnormalized_direction\u001b[0m \u001b[1;33m=\u001b[0m \u001b[0mdirection_vector\u001b[0m\u001b[1;33m.\u001b[0m\u001b[0mscale\u001b[0m\u001b[1;33m(\u001b[0m\u001b[1;36m1\u001b[0m\u001b[1;33m/\u001b[0m\u001b[0mlength\u001b[0m\u001b[1;33m)\u001b[0m\u001b[1;33m\u001b[0m\u001b[1;33m\u001b[0m\u001b[0m\n",
      "\u001b[1;32m<ipython-input-61-1b19e4e57c74>\u001b[0m in \u001b[0;36m__sub__\u001b[1;34m(self, other)\u001b[0m\n\u001b[0;32m     22\u001b[0m         \u001b[0mb\u001b[0m \u001b[1;33m=\u001b[0m \u001b[0mother\u001b[0m\u001b[1;33m\u001b[0m\u001b[1;33m\u001b[0m\u001b[0m\n\u001b[0;32m     23\u001b[0m         \u001b[0mb\u001b[0m \u001b[1;33m=\u001b[0m \u001b[0mb\u001b[0m\u001b[1;33m.\u001b[0m\u001b[0mscale\u001b[0m\u001b[1;33m(\u001b[0m\u001b[1;33m-\u001b[0m\u001b[1;36m1\u001b[0m\u001b[1;33m)\u001b[0m\u001b[1;33m\u001b[0m\u001b[1;33m\u001b[0m\u001b[0m\n\u001b[1;32m---> 24\u001b[1;33m         \u001b[1;32mreturn\u001b[0m \u001b[0mself\u001b[0m\u001b[1;33m+\u001b[0m\u001b[0mb\u001b[0m\u001b[1;33m\u001b[0m\u001b[1;33m\u001b[0m\u001b[0m\n\u001b[0m\u001b[0;32m     25\u001b[0m \u001b[1;33m\u001b[0m\u001b[0m\n\u001b[0;32m     26\u001b[0m     \u001b[1;32mdef\u001b[0m \u001b[0mlength\u001b[0m\u001b[1;33m(\u001b[0m\u001b[0mself\u001b[0m\u001b[1;33m)\u001b[0m\u001b[1;33m:\u001b[0m\u001b[1;33m\u001b[0m\u001b[1;33m\u001b[0m\u001b[0m\n",
      "\u001b[1;32m<ipython-input-61-1b19e4e57c74>\u001b[0m in \u001b[0;36m__add__\u001b[1;34m(self, other)\u001b[0m\n\u001b[0;32m     13\u001b[0m         \u001b[0mindex\u001b[0m \u001b[1;33m=\u001b[0m \u001b[1;36m0\u001b[0m\u001b[1;33m\u001b[0m\u001b[1;33m\u001b[0m\u001b[0m\n\u001b[0;32m     14\u001b[0m         \u001b[1;32mwhile\u001b[0m \u001b[0mindex\u001b[0m \u001b[1;33m<\u001b[0m \u001b[0mlen\u001b[0m\u001b[1;33m(\u001b[0m\u001b[0mself\u001b[0m\u001b[1;33m.\u001b[0m\u001b[0mvalues\u001b[0m\u001b[1;33m)\u001b[0m\u001b[1;33m:\u001b[0m\u001b[1;33m\u001b[0m\u001b[1;33m\u001b[0m\u001b[0m\n\u001b[1;32m---> 15\u001b[1;33m             \u001b[0mresult\u001b[0m\u001b[1;33m.\u001b[0m\u001b[0mappend\u001b[0m\u001b[1;33m(\u001b[0m\u001b[0mself\u001b[0m\u001b[1;33m.\u001b[0m\u001b[0mvalues\u001b[0m\u001b[1;33m[\u001b[0m\u001b[0mindex\u001b[0m\u001b[1;33m]\u001b[0m \u001b[1;33m+\u001b[0m \u001b[0mother\u001b[0m\u001b[1;33m.\u001b[0m\u001b[0mvalues\u001b[0m\u001b[1;33m[\u001b[0m\u001b[0mindex\u001b[0m\u001b[1;33m]\u001b[0m\u001b[1;33m)\u001b[0m\u001b[1;33m\u001b[0m\u001b[1;33m\u001b[0m\u001b[0m\n\u001b[0m\u001b[0;32m     16\u001b[0m             \u001b[0mindex\u001b[0m \u001b[1;33m+=\u001b[0m \u001b[1;36m1\u001b[0m\u001b[1;33m\u001b[0m\u001b[1;33m\u001b[0m\u001b[0m\n\u001b[0;32m     17\u001b[0m         \u001b[0mendVec\u001b[0m \u001b[1;33m=\u001b[0m \u001b[0mVector\u001b[0m\u001b[1;33m(\u001b[0m\u001b[0mresult\u001b[0m\u001b[1;33m)\u001b[0m\u001b[1;33m\u001b[0m\u001b[1;33m\u001b[0m\u001b[0m\n",
      "\u001b[1;31mAttributeError\u001b[0m: 'list' object has no attribute 'values'"
     ]
    }
   ],
   "source": [
    "import pygame as pg\n",
    "import math\n",
    "import numpy as np\n",
    "\n",
    "width, height = 500, 500\n",
    "\n",
    "class Vector:\n",
    "    def __init__(self, *values):\n",
    "        self.values = [v for v in values]\n",
    "\n",
    "    def __init__(self, values):\n",
    "        self.values = values\n",
    "\n",
    "    def __add__(self, other):\n",
    "        result = []\n",
    "        index = 0\n",
    "        while index < len(self.values):\n",
    "            result.append(self.values[index] + other.values[index])\n",
    "            index += 1\n",
    "        endVec = Vector(result)\n",
    "        endVec.values = result\n",
    "        return endVec\n",
    "\n",
    "    def __sub__(self, other):\n",
    "        b = other\n",
    "        b = b.scale(-1)\n",
    "        return self+b\n",
    "\n",
    "    def length(self):\n",
    "        discriminant = 0\n",
    "        for i in range(len(self.values)):\n",
    "            discriminant += (self.values[i])**2\n",
    "        return discriminant**0.5\n",
    "\n",
    "    def scale(self, scal):\n",
    "        new_vals = []\n",
    "        for i in range(len(self.values)):\n",
    "            new_vals.append(self.values[i]*scal)\n",
    "        return new_vals\n",
    "\n",
    "\n",
    "    def __repr__(self):\n",
    "        result = \"[\"\n",
    "        for val in self.values:\n",
    "            result += str(val) + \" \"\n",
    "        result += \"]\"\n",
    "        return result\n",
    "\n",
    "class Ball:\n",
    "    def __init__(self, position, radius=10, velocity=Vector(0, 0), acceleration=Vector(0, 0), color=(255, 255, 255), density=1):\n",
    "        self.position = position\n",
    "        self.radius = radius\n",
    "        self.velocity = velocity\n",
    "        self.acceleration = acceleration\n",
    "        self.color = color\n",
    "\n",
    "    def dist(self, other):\n",
    "        discriminant = 0\n",
    "        for i in range(len(self.position.values)):\n",
    "            discriminant += (self.position.values[i]-other.position.values[i])**2\n",
    "        return discriminant**0.5\n",
    "\n",
    "    def move(self):\n",
    "        self.velocity = self.velocity + self.acceleration\n",
    "        self.position = self.position + self.velocity\n",
    "\n",
    "    def collide_border(self, startx, starty, endx, endy):\n",
    "        if(self.position.values[0] - self.radius < startx):\n",
    "            self.velocity.values[0] *= -1\n",
    "        if(self.position.values[0] + self.radius > endx):\n",
    "            self.velocity.values[0] *= -1\n",
    "\n",
    "        if(self.position.values[1] - self.radius < starty):\n",
    "            self.velocity.values[1] *= -1\n",
    "        if(self.position.values[1] + self.radius > endy):\n",
    "            self.velocity.values[1] *= -1\n",
    "\n",
    "    def collide_balls(self, balls):\n",
    "        self.color = (255, 255, 255)\n",
    "        for other_ball in balls:\n",
    "            if other_ball == self:\n",
    "                continue\n",
    "            if self.dist(other_ball) < self.radius+other_ball.radius:\n",
    "                self.color = (255, 0, 0)\n",
    "                other_ball.color = (255, 0, 0)\n",
    "                direction_vector = other_ball.position-self.position\n",
    "                length = direction_vector.length()\n",
    "                normalized_direction = direction_vector.scale(1/length)\n",
    "                tangentepunkt = self.position+(normalized_direction.scale(self.radius))\n",
    "                ballz.append(Ball(tangentepunkt, color=(0, 255, 0)))\n",
    "\n",
    "\n",
    "    def apply_gravity(self, balls):\n",
    "        for other_ball in balls:\n",
    "            if other_ball != self:\n",
    "                d = self.dist(other_ball)\n",
    "                direction = Vector(other_ball.position.values[0]-self.position.values[0], other_ball.position.values[1]-self.position.values[1])\n",
    "                direction = direction.scale(1/d)\n",
    "                f = (self.radius*self.density)/d**2\n",
    "\n",
    "    def draw_screen(self, screen):\n",
    "        pg.draw.circle(screen, (self.color), (self.position.values[0], self.position.values[1]), self.radius, 0)\n",
    "\n",
    "pg.init()\n",
    "screen = pg.display.set_mode((width, height))\n",
    "pg.display.set_caption(\"SUCK MY DICK SEV\")\n",
    "running = True\n",
    "ballz = []\n",
    "clock = pg.time.Clock()\n",
    "\n",
    "#initialisierig oder so\n",
    "for i in np.arange(0, 1, 0.1):\n",
    "    vx = math.cos(i*2*math.pi)\n",
    "    vy = math.sin(i*2*math.pi)\n",
    "\n",
    "    ball = Ball(Vector(width/2 + math.cos(2*math.pi*i)*100, height/2 + math.sin(2*math.pi*i)*100), velocity=Vector(vx, vy))\n",
    "    ballz.append(ball)\n",
    "\n",
    "while running:\n",
    "    for event in pg.event.get():\n",
    "        if event.type == pg.QUIT:\n",
    "            running = False\n",
    "        if event.type == pg.KEYDOWN:\n",
    "            if event.key == pg.K_ESCAPE:\n",
    "                running = False\n",
    "    screen.fill((0, 0, 0))\n",
    "\n",
    "    for ball in ballz:\n",
    "        ball.move()\n",
    "        ball.collide_border(0, 0, width, height)\n",
    "        ball.collide_balls(ballz)\n",
    "        ball.draw_screen(screen)\n",
    "\n",
    "    pg.display.flip()\n",
    "    clock.tick(60)\n",
    "    \n",
    "pg.quit()"
   ]
  },
  {
   "cell_type": "code",
   "execution_count": 51,
   "metadata": {},
   "outputs": [],
   "source": [
    "y = Vector(20)"
   ]
  },
  {
   "cell_type": "code",
   "execution_count": 9,
   "metadata": {},
   "outputs": [
    {
     "output_type": "stream",
     "name": "stdout",
     "text": [
      "[200 ]\n"
     ]
    }
   ],
   "source": []
  },
  {
   "cell_type": "code",
   "execution_count": 53,
   "metadata": {},
   "outputs": [
    {
     "output_type": "stream",
     "name": "stdout",
     "text": [
      "[3, 4, 1]\n"
     ]
    }
   ],
   "source": [
    "xs = [1, 2, 3, 4]\n",
    "to_remove = []\n",
    "to_add = []\n",
    "for index, x in enumerate(xs):\n",
    "    if x % 2 == 0:\n",
    "        xs.remove(index)\n",
    "    else:\n",
    "        xs.append(x)\n",
    "print(xs)"
   ]
  },
  {
   "cell_type": "code",
   "execution_count": null,
   "metadata": {},
   "outputs": [],
   "source": []
  },
  {
   "cell_type": "code",
   "execution_count": 7,
   "metadata": {},
   "outputs": [],
   "source": [
    "class tester:\n",
    "    def __init__(self, *test):\n",
    "        for t in test:\n",
    "            print(t."
   ]
  },
  {
   "cell_type": "code",
   "execution_count": 8,
   "metadata": {},
   "outputs": [
    {
     "output_type": "error",
     "ename": "AttributeError",
     "evalue": "'list' object has no attribute 'flatten'",
     "traceback": [
      "\u001b[1;31m---------------------------------------------------------------------------\u001b[0m",
      "\u001b[1;31mAttributeError\u001b[0m                            Traceback (most recent call last)",
      "\u001b[1;32m<ipython-input-8-78fcb4f2b48f>\u001b[0m in \u001b[0;36m<module>\u001b[1;34m\u001b[0m\n\u001b[1;32m----> 1\u001b[1;33m \u001b[0mtester\u001b[0m\u001b[1;33m(\u001b[0m\u001b[1;33m[\u001b[0m\u001b[1;36m1\u001b[0m\u001b[1;33m,\u001b[0m \u001b[1;36m2\u001b[0m\u001b[1;33m,\u001b[0m \u001b[1;36m3\u001b[0m\u001b[1;33m]\u001b[0m\u001b[1;33m)\u001b[0m\u001b[1;33m\u001b[0m\u001b[1;33m\u001b[0m\u001b[0m\n\u001b[0m",
      "\u001b[1;32m<ipython-input-7-6d3ae7715d33>\u001b[0m in \u001b[0;36m__init__\u001b[1;34m(self, *test)\u001b[0m\n\u001b[0;32m      2\u001b[0m     \u001b[1;32mdef\u001b[0m \u001b[0m__init__\u001b[0m\u001b[1;33m(\u001b[0m\u001b[0mself\u001b[0m\u001b[1;33m,\u001b[0m \u001b[1;33m*\u001b[0m\u001b[0mtest\u001b[0m\u001b[1;33m)\u001b[0m\u001b[1;33m:\u001b[0m\u001b[1;33m\u001b[0m\u001b[1;33m\u001b[0m\u001b[0m\n\u001b[0;32m      3\u001b[0m         \u001b[1;32mfor\u001b[0m \u001b[0mt\u001b[0m \u001b[1;32min\u001b[0m \u001b[0mtest\u001b[0m\u001b[1;33m:\u001b[0m\u001b[1;33m\u001b[0m\u001b[1;33m\u001b[0m\u001b[0m\n\u001b[1;32m----> 4\u001b[1;33m             \u001b[0mprint\u001b[0m\u001b[1;33m(\u001b[0m\u001b[0mt\u001b[0m\u001b[1;33m.\u001b[0m\u001b[0mflatten\u001b[0m\u001b[1;33m(\u001b[0m\u001b[1;33m)\u001b[0m\u001b[1;33m)\u001b[0m\u001b[1;33m\u001b[0m\u001b[1;33m\u001b[0m\u001b[0m\n\u001b[0m",
      "\u001b[1;31mAttributeError\u001b[0m: 'list' object has no attribute 'flatten'"
     ]
    }
   ],
   "source": [
    "tester([1, 2, 3])"
   ]
  },
  {
   "cell_type": "code",
   "execution_count": null,
   "metadata": {},
   "outputs": [],
   "source": []
  }
 ]
}