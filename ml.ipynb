{
 "metadata": {
  "language_info": {
   "codemirror_mode": {
    "name": "ipython",
    "version": 3
   },
   "file_extension": ".py",
   "mimetype": "text/x-python",
   "name": "python",
   "nbconvert_exporter": "python",
   "pygments_lexer": "ipython3",
   "version": "3.8.3-final"
  },
  "orig_nbformat": 2,
  "kernelspec": {
   "name": "python3",
   "display_name": "Python 3",
   "language": "python"
  }
 },
 "nbformat": 4,
 "nbformat_minor": 2,
 "cells": [
  {
   "cell_type": "code",
   "execution_count": null,
   "metadata": {},
   "outputs": [],
   "source": [
    "import tensorflow as tf\n",
    "\n",
    "train_ds, teset_ds = tf.keras.datasets.mnist.load_data(path=\"mnist.npz\")\n",
    "x, y = train_ds\n",
    "y = y/10\n",
    "\n",
    "print((x[0][0][0]))\n",
    "\n",
    "model = tf.keras.Sequential()\n",
    "model.add(tf.keras.layers.Conv2D(3, 3, strides=(2, 2), input_shape=(28, 28, 1,)))\n",
    "model.add(tf.keras.layers.Conv2D(3, 3, strides=(2, 2)))\n",
    "model.add(tf.keras.layers.Conv2D(3, 3, strides=(1, 1)))\n",
    "model.add(tf.keras.layers.Conv2D(3, 3, strides=(1, 1)))\n",
    "model.add(tf.keras.layers.Flatten())\n",
    "model.add(tf.keras.layers.Dense(10))\n",
    "model.add(tf.keras.layers.Dense(1))\n",
    "print(model.summary())\n",
    "\n",
    "optimizer = tf.keras.optimizers.Adam(learning_rate=0.001)\n",
    "loss = tf.keras.losses.MSE\n",
    "\n",
    "model.compile(optimizer, loss)\n",
    "model.fit(x, y, 100)\n",
    "\n"
   ]
  },
  {
   "cell_type": "code",
   "execution_count": null,
   "metadata": {},
   "outputs": [],
   "source": []
  }
 ]
}