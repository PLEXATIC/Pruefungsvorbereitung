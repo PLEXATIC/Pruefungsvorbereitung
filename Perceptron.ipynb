{
 "metadata": {
  "language_info": {
   "codemirror_mode": {
    "name": "ipython",
    "version": 3
   },
   "file_extension": ".py",
   "mimetype": "text/x-python",
   "name": "python",
   "nbconvert_exporter": "python",
   "pygments_lexer": "ipython3",
   "version": "3.8.6-final"
  },
  "orig_nbformat": 2,
  "kernelspec": {
   "name": "python3",
   "display_name": "Python 3",
   "language": "python"
  }
 },
 "nbformat": 4,
 "nbformat_minor": 2,
 "cells": [
  {
   "cell_type": "code",
   "execution_count": 28,
   "metadata": {},
   "outputs": [
    {
     "output_type": "execute_result",
     "data": {
      "text/plain": [
       "[0.5]"
      ]
     },
     "metadata": {},
     "execution_count": 28
    }
   ],
   "source": [
    "import math\n",
    "import random\n",
    "class Perceptron:\n",
    "    def __init__(self):\n",
    "        self.input = 0\n",
    "        self.output = 0\n",
    "\n",
    "    def activate(self):\n",
    "        self.output = self.sigmoid(self.input)\n",
    "        self.input = 0\n",
    "        \n",
    "    def sigmoid(self, x):\n",
    "        return 1/(1+math.exp(-x))\n",
    "\n",
    "class Connection:\n",
    "    def __init__(self, start, end, weight):\n",
    "        self.start = start\n",
    "        self.end = end\n",
    "        self.weight = weight\n",
    "\n",
    "    def forward(self):\n",
    "        self.end.input += self.start.output*self.weight\n",
    "\n",
    "class NeuralNetwork:\n",
    "    def __init__(self, *neurons_per_layer):\n",
    "        self.neurons = []\n",
    "        self.connections = []\n",
    "\n",
    "        for neuron_count in neurons_per_layer:\n",
    "            layer = []\n",
    "            for i in range(neuron_count):\n",
    "                layer.append(Perceptron())\n",
    "            self.neurons.append(layer)\n",
    "\n",
    "        #now it's time to connect shit up :D\n",
    "        for i in range(len(self.neurons)-1):\n",
    "            layer_from = self.neurons[i]\n",
    "            layer_to = self.neurons[i+1]\n",
    "            connections_per_layer = []\n",
    "            for neuron_from in layer_from:\n",
    "                for neuron_to in layer_to:\n",
    "                    connection = Connection(neuron_to, neuron_from, 2*random.random() -1)\n",
    "                    connections_per_layer.append(connection)\n",
    "            self.connections.append(connections_per_layer)\n",
    "\n",
    "    def propagate(self, vals):\n",
    "        assert len(vals) == len(self.neurons[0])\n",
    "\n",
    "        value_index = 0\n",
    "        for val in vals:\n",
    "            input_neuron = self.neurons[0][value_index]\n",
    "            input_neuron.input = val\n",
    "            value_index += 1\n",
    "\n",
    "        layer_index = 0\n",
    "        for connection_layer in self.connections:\n",
    "            for neuron in self.neurons[layer_index]:\n",
    "                neuron.activate()\n",
    "            layer_index += 1\n",
    "            for connection in connection_layer:\n",
    "                connection.forward()\n",
    "\n",
    "        results = []\n",
    "        for output_neuron in self.neurons[-1]:\n",
    "            output_neuron.activate()\n",
    "            results.append(output_neuron.output)\n",
    "\n",
    "        return results\n",
    "\n",
    "\n",
    "    def __repr__(self):\n",
    "        val = \"\"\n",
    "        for layer in self.neurons:\n",
    "            val += \"{} neurons in this layer\\n\".format(len(layer))\n",
    "        return val\n",
    "\n",
    "network = NeuralNetwork(2, 8, 4, 1)\n",
    "network.propagate([1, 0.1])"
   ]
  },
  {
   "cell_type": "code",
   "execution_count": null,
   "metadata": {},
   "outputs": [],
   "source": []
  },
  {
   "cell_type": "code",
   "execution_count": null,
   "metadata": {},
   "outputs": [],
   "source": []
  }
 ]
}