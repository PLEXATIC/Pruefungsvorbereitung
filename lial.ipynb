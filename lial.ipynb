{
 "metadata": {
  "language_info": {
   "codemirror_mode": {
    "name": "ipython",
    "version": 3
   },
   "file_extension": ".py",
   "mimetype": "text/x-python",
   "name": "python",
   "nbconvert_exporter": "python",
   "pygments_lexer": "ipython3",
   "version": "3.8.6-final"
  },
  "orig_nbformat": 2,
  "kernelspec": {
   "name": "python3",
   "display_name": "Python 3",
   "language": "python"
  }
 },
 "nbformat": 4,
 "nbformat_minor": 2,
 "cells": [
  {
   "cell_type": "code",
   "execution_count": 21,
   "metadata": {},
   "outputs": [],
   "source": [
    "import numpy as np\n",
    "import pygame as pg\n",
    "import matplotlib.pyplot as plt\n",
    "\n",
    "xs = np.arange(-1, 1, 0.03)\n",
    "ys = np.arange(-1, 1, 0.03)\n",
    "vectors = []\n",
    "for x in xs:\n",
    "    for y in ys:\n",
    "        vectors.append(np.array([x, y]))\n",
    "\n",
    "running = True\n",
    "pg.init()\n",
    "width, height = 800, 800\n",
    "bg_color = (0, 0, 0)\n",
    "screen = pg.display.set_mode((width, height))\n",
    "clock = pg.time.Clock()\n",
    "while running:\n",
    "    for event in pg.event.get():\n",
    "        if event.type == pg.QUIT:\n",
    "            running = False\n",
    "        if event.type == pg.KEYDOWN:\n",
    "            if event.key == pg.K_RETURN:\n",
    "                running = False\n",
    "    screen.fill(bg_color)\n",
    "    for point in vectors:\n",
    "        t = np.array([[1, 0.5],[0.5, 1]])\n",
    "        point = np.matmul(t.T, point)\n",
    "        x, y = point[0], point[1]\n",
    "        pg.draw.circle(screen,(255, 255, 255), (width/2 +width/2*x, height/2 + height/-2*y),  5, 0)\n",
    "\n",
    "    pg.display.flip()\n",
    "    clock.tick(30)\n",
    "pg.quit()"
   ]
  },
  {
   "cell_type": "code",
   "execution_count": null,
   "metadata": {},
   "outputs": [],
   "source": []
  },
  {
   "cell_type": "code",
   "execution_count": null,
   "metadata": {},
   "outputs": [],
   "source": []
  }
 ]
}